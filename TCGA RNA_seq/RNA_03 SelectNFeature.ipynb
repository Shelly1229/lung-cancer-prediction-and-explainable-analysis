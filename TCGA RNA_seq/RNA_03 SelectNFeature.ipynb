{
 "cells": [
  {
   "cell_type": "code",
   "execution_count": 1,
   "id": "a512f4fc",
   "metadata": {},
   "outputs": [],
   "source": [
    "import pandas as pd\n",
    "import numpy as np\n",
    "import matplotlib.pyplot as plt\n",
    "plt.style.use('fivethirtyeight')\n",
    "import seaborn as sns\n",
    "from sklearn.model_selection import train_test_split\n",
    "from sklearn.preprocessing import StandardScaler\n",
    "from sklearn import preprocessing \n",
    "from sklearn.preprocessing import LabelEncoder\n",
    "%matplotlib inline\n",
    "\n",
    "from sklearn.model_selection import cross_val_predict\n",
    "from sklearn.model_selection import cross_val_score\n",
    "from sklearn.metrics import classification_report\n",
    "from sklearn.metrics import confusion_matrix, accuracy_score, recall_score, f1_score, precision_score\n",
    "\n",
    "from sklearn import model_selection\n",
    "from sklearn.svm import SVC\n",
    "from sklearn.neighbors import KNeighborsClassifier\n",
    "from sklearn.ensemble import RandomForestClassifier\n",
    "from sklearn.tree import DecisionTreeClassifier\n",
    "from sklearn.ensemble import AdaBoostClassifier\n",
    "from sklearn.naive_bayes import GaussianNB,BernoulliNB\n",
    "from sklearn.linear_model import LogisticRegression\n",
    "from sklearn.ensemble import GradientBoostingClassifier\n",
    "from xgboost import XGBClassifier\n",
    "import lightgbm as lgb\n",
    "\n",
    "from sklearn import datasets, linear_model, metrics\n",
    "from sklearn.model_selection import GridSearchCV\n",
    "import sklearn.model_selection as ms\n",
    "from sklearn.metrics import roc_curve, auc\n",
    "from sklearn.metrics import roc_auc_score\n",
    "\n",
    "import warnings\n",
    "warnings.filterwarnings('ignore')"
   ]
  },
  {
   "cell_type": "code",
   "execution_count": 2,
   "id": "e4fec483",
   "metadata": {},
   "outputs": [],
   "source": [
    "data = pd.read_csv(\"./RNA_seq.csv\")\n",
    "dataT=np.array(data)\n",
    "data=dataT.T\n",
    "co=data[0]\n",
    "data1=np.delete(data,0,axis=0)\n",
    "data=data1\n",
    "datadf= pd.DataFrame(data=data[0:,0:],columns=co)\n",
    "datadf.head()\n",
    "data=datadf\n",
    "data= data.replace(\"NOTLC\",value=0)\n",
    "data= data.replace(\"LC\",value=1)\n",
    "X=data.drop(['Group'],axis=1)\n",
    "y=data['Group']"
   ]
  },
  {
   "cell_type": "code",
   "execution_count": 3,
   "id": "98c2182c",
   "metadata": {},
   "outputs": [
    {
     "name": "stdout",
     "output_type": "stream",
     "text": [
      "Train shape : (878, 60660)\n",
      "Test shape: (220, 60660)\n"
     ]
    }
   ],
   "source": [
    "X_train,X_test,y_train,y_test = train_test_split(X,y,test_size=0.2,random_state=42,stratify=None)\n",
    "print(f'Train shape : {X_train.shape}\\nTest shape: {X_test.shape}')"
   ]
  },
  {
   "cell_type": "code",
   "execution_count": 4,
   "id": "5d121678",
   "metadata": {},
   "outputs": [],
   "source": [
    "column=X.columns\n",
    "from sklearn.preprocessing import StandardScaler\n",
    "sc = StandardScaler()\n",
    "X=sc.fit_transform(X)\n",
    "X=pd.DataFrame(data=X,columns=column)"
   ]
  },
  {
   "cell_type": "code",
   "execution_count": null,
   "id": "4cb6cdfe",
   "metadata": {},
   "outputs": [],
   "source": []
  },
  {
   "cell_type": "code",
   "execution_count": 5,
   "id": "6080b3ad",
   "metadata": {},
   "outputs": [],
   "source": [
    "def crosspredict(estimator,Xtrain,ytrain,cv):\n",
    "    print(\"cross-validate across the entire data set\")\n",
    "    y_pred_cross=cross_val_predict(estimator,Xtrain,ytrain,cv=cv)\n",
    "    confusion_cross=confusion_matrix(ytrain,y_pred_cross)\n",
    "    a=accuracy_score(ytrain,y_pred_cross)\n",
    "    p=precision_score(ytrain, y_pred_cross)\n",
    "    r=recall_score(ytrain, y_pred_cross)\n",
    "    f1=f1_score(ytrain, y_pred_cross)\n",
    "    wf1=f1_score(ytrain, y_pred_cross, average='weighted')\n",
    "    #auc=roc_auc_score(ytrain,estimator.predict_proba(Xtrain)[:,1])\n",
    "    print('the confusion_matrix of the model is : \\n',confusion_cross)\n",
    "    print('the accuracy of the model is : ',a)\n",
    "    print(\"the precision score of the model is : \", p)\n",
    "    print(\"the recall score of the model is :\", r)\n",
    "    print('the f1_score of the model  is :',f1)\n",
    "    print('the weighted_f1 of the model is :',wf1)\n",
    "    print('the classification_report is :\\n',classification_report(ytrain, y_pred_cross,digits=4))\n",
    "    #print('the auc is :',auc)\n",
    "    return a,p,r,f1"
   ]
  },
  {
   "cell_type": "code",
   "execution_count": 6,
   "id": "fb5eff7a",
   "metadata": {},
   "outputs": [],
   "source": [
    "from sklearn.feature_selection import SequentialFeatureSelector\n",
    "def searchNFeatures(estimator,nEnd = 11):\n",
    "    n_feature_range = range(3,nEnd+1)\n",
    "    accmax2=0\n",
    "    premax2=0\n",
    "    recmax2=0\n",
    "    f1max2=0\n",
    "    featuremax2=0\n",
    "    feature2=[]\n",
    "    for n in n_feature_range:\n",
    "        print(\"N features:\", n)\n",
    "        sel_seq = SequentialFeatureSelector(estimator=estimator, n_features_to_select=n)\n",
    "        temp=sel_seq.fit(X_train, y_train)\n",
    "        sel_seq_mask= X_train.columns[temp.get_support()]\n",
    "        print('features:',sel_seq_mask)\n",
    "        X_new=sel_seq.fit_transform(X_train,y_train)\n",
    "        acc2,pre2,rec2,f12=crosspredict(estimator,X_new,y_train,10)\n",
    "        if f12>f1max2:\n",
    "            f1max2=f12\n",
    "            featuremax2=n\n",
    "            feature2=sel_seq_mask\n",
    "    \n",
    "    print(\"整个数据集上交叉验证：\")\n",
    "    print('feature :',feature2)\n",
    "    print('the best feature number is:',featuremax2)\n",
    "    print(\"\\n\")"
   ]
  },
  {
   "cell_type": "code",
   "execution_count": null,
   "id": "a4b49ea3",
   "metadata": {},
   "outputs": [],
   "source": [
    "searchNFeatures(DecisionTreeClassifier(max_depth=8, min_samples_leaf=1, min_samples_split=6),10)"
   ]
  },
  {
   "cell_type": "markdown",
   "id": "383a82b4",
   "metadata": {},
   "source": [
    "feature : Index(['ENSG00000003147.19','ENSG00000004455.17',\n",
    "'ENSG00000006327.14','ENSG00000018510.17',\n",
    "'ENSG00000067064.11','ENSG00000154813.10',\n",
    "'ENSG00000204305.14','ENSG00000234425.1',\n",
    "'ENSG00000262772.2','ENSG00000272477.1'], dtype='object') the best feature number is: 5"
   ]
  },
  {
   "cell_type": "code",
   "execution_count": null,
   "id": "5db4fc68",
   "metadata": {},
   "outputs": [],
   "source": [
    "searchNFeatures(RandomForestClassifier(max_depth=4, n_estimators=108, n_jobs=-1,random_state=90),10)"
   ]
  },
  {
   "cell_type": "code",
   "execution_count": null,
   "id": "8c02b2c3",
   "metadata": {},
   "outputs": [],
   "source": [
    "searchNFeatures(AdaBoostClassifier(learning_rate=1,n_estimators=50),10)"
   ]
  },
  {
   "cell_type": "code",
   "execution_count": null,
   "id": "2747b55f",
   "metadata": {},
   "outputs": [],
   "source": [
    "searchNFeatures(LogisticRegression(C=0.01),10)"
   ]
  },
  {
   "cell_type": "code",
   "execution_count": null,
   "id": "756413d9",
   "metadata": {},
   "outputs": [],
   "source": [
    "searchNFeatures(lgb.LGBMClassifier(learning_rate=0.1,max_depth=6, n_estimators=200),10)"
   ]
  },
  {
   "cell_type": "code",
   "execution_count": null,
   "id": "549e46fb",
   "metadata": {},
   "outputs": [],
   "source": []
  }
 ],
 "metadata": {
  "kernelspec": {
   "display_name": "Python 3 (ipykernel)",
   "language": "python",
   "name": "python3"
  },
  "language_info": {
   "codemirror_mode": {
    "name": "ipython",
    "version": 3
   },
   "file_extension": ".py",
   "mimetype": "text/x-python",
   "name": "python",
   "nbconvert_exporter": "python",
   "pygments_lexer": "ipython3",
   "version": "3.7.16"
  }
 },
 "nbformat": 4,
 "nbformat_minor": 5
}
