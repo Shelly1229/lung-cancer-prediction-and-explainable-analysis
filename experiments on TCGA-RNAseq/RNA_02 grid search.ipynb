{
 "cells": [
  {
   "cell_type": "code",
   "execution_count": 1,
   "id": "6fb627e2",
   "metadata": {},
   "outputs": [],
   "source": [
    "import pandas as pd\n",
    "import numpy as np\n",
    "import matplotlib.pyplot as plt\n",
    "plt.style.use('fivethirtyeight')\n",
    "import seaborn as sns\n",
    "from sklearn.model_selection import train_test_split\n",
    "from sklearn.preprocessing import StandardScaler\n",
    "from sklearn import preprocessing \n",
    "from sklearn.preprocessing import LabelEncoder\n",
    "%matplotlib inline\n",
    "\n",
    "from sklearn.model_selection import cross_val_predict\n",
    "from sklearn.model_selection import cross_val_score\n",
    "from sklearn.metrics import classification_report\n",
    "from sklearn.metrics import confusion_matrix, accuracy_score, recall_score, f1_score, precision_score\n",
    "\n",
    "from sklearn import model_selection\n",
    "from sklearn.svm import SVC\n",
    "from sklearn.neighbors import KNeighborsClassifier\n",
    "from sklearn.ensemble import RandomForestClassifier\n",
    "from sklearn.tree import DecisionTreeClassifier\n",
    "from sklearn.ensemble import AdaBoostClassifier\n",
    "from sklearn.naive_bayes import GaussianNB,BernoulliNB\n",
    "from sklearn.linear_model import LogisticRegression\n",
    "from sklearn.ensemble import GradientBoostingClassifier\n",
    "from xgboost import XGBClassifier\n",
    "import lightgbm as lgb\n",
    "\n",
    "from sklearn import datasets, linear_model, metrics\n",
    "from sklearn.model_selection import GridSearchCV\n",
    "import sklearn.model_selection as ms\n",
    "from sklearn.metrics import roc_curve, auc\n",
    "from sklearn.metrics import roc_auc_score\n",
    "import warnings\n",
    "warnings.filterwarnings(\"ignore\")"
   ]
  },
  {
   "cell_type": "code",
   "execution_count": 2,
   "id": "d5e8119d",
   "metadata": {
    "scrolled": true
   },
   "outputs": [],
   "source": [
    "data = pd.read_csv(\"./RNA_seq.csv\")\n",
    "dataT=np.array(data)\n",
    "data=dataT.T\n",
    "co=data[0]\n",
    "data1=np.delete(data,0,axis=0)\n",
    "data=data1\n",
    "datadf= pd.DataFrame(data=data[0:,0:],columns=co)\n",
    "datadf.head()\n",
    "data=datadf\n",
    "data= data.replace(\"NOTLC\",value=0)\n",
    "data= data.replace(\"LC\",value=1)\n",
    "X=data.drop(['Group'],axis=1)\n",
    "y=data['Group']"
   ]
  },
  {
   "cell_type": "code",
   "execution_count": 9,
   "id": "a4b6a7b3",
   "metadata": {},
   "outputs": [],
   "source": [
    "column=X.columns\n",
    "from sklearn.preprocessing import StandardScaler\n",
    "sc = StandardScaler()\n",
    "X=sc.fit_transform(X)\n",
    "# X=pd.DataFrame(data=X,columns=column)"
   ]
  },
  {
   "cell_type": "code",
   "execution_count": 16,
   "id": "ecb6205d",
   "metadata": {},
   "outputs": [],
   "source": [
    "X=pd.DataFrame(data=X,columns=column)"
   ]
  },
  {
   "cell_type": "code",
   "execution_count": 17,
   "id": "ad73c19b",
   "metadata": {},
   "outputs": [
    {
     "name": "stdout",
     "output_type": "stream",
     "text": [
      "Train shape : (878, 60660)\n",
      "Test shape: (220, 60660)\n"
     ]
    }
   ],
   "source": [
    "X_train,X_test,y_train,y_test = train_test_split(X,y,test_size=0.2,random_state=42,stratify=None)\n",
    "print(f'Train shape : {X_train.shape}\\nTest shape: {X_test.shape}')"
   ]
  },
  {
   "cell_type": "markdown",
   "id": "bb2c971e",
   "metadata": {},
   "source": [
    "### 网格搜索"
   ]
  },
  {
   "cell_type": "code",
   "execution_count": null,
   "id": "19dd75dc",
   "metadata": {},
   "outputs": [],
   "source": []
  },
  {
   "cell_type": "code",
   "execution_count": 6,
   "id": "328b5294",
   "metadata": {},
   "outputs": [],
   "source": [
    "#网格搜索\n",
    "def gridsearch(params,estimator,Xtrain,ytrain,cvnumber):\n",
    "    #print(\"params:\",params)\n",
    "    model = ms.GridSearchCV(estimator, params, cv=cvnumber)\n",
    "    model.fit(Xtrain, ytrain)\n",
    "    print(\"the best_params of the model is:\",model.best_params_)\n",
    "    print(\"the best_score of the model is:\",model.best_score_)\n",
    "    print(\"the best_estimator of the model is:\",model.best_estimator_)"
   ]
  },
  {
   "cell_type": "code",
   "execution_count": null,
   "id": "9d34593a",
   "metadata": {},
   "outputs": [],
   "source": [
    "#RF\n",
    "params={\n",
    "    'n_estimators':np.arange(1,21,1),\n",
    "    'max_depth': np.arange(1,21,1),\n",
    "}\n",
    "model = ms.GridSearchCV(RandomForestClassifier(), params, cv=10)\n",
    "model.fit(X_train, y_train)\n",
    "\n",
    "print(\"the best_params of the RF model is:\",model.best_params_)\n",
    "# 获取最优得分\n",
    "print(\"the best_score of the RF model is:\",model.best_score_)\n",
    "# 获取最优模型的信息\n",
    "print(\"the best_estimator of the RF model is:\",model.best_estimator_)"
   ]
  },
  {
   "cell_type": "code",
   "execution_count": null,
   "id": "5327a70a",
   "metadata": {},
   "outputs": [],
   "source": [
    "#AdaBoost\n",
    "params={\n",
    "    'n_estimators':[10,50,100,200,300,400,500],\n",
    "    'learning_rate':[0.0001,0.001,0.01,0.1,1]\n",
    "}\n",
    "model = ms.GridSearchCV(AdaBoostClassifier(), params, cv=10)\n",
    "model.fit(X_train, y_train)\n",
    "\n",
    "print(\"the best_params of the AdaBoost model is:\",model.best_params_)\n",
    "# 获取最优得分\n",
    "print(\"the best_score of the AdaBoost model is:\",model.best_score_)\n",
    "# 获取最优模型的信息\n",
    "print(\"the best_estimator of the AdaBoost model is:\",model.best_estimator_)"
   ]
  },
  {
   "cell_type": "code",
   "execution_count": 8,
   "id": "b26d451a",
   "metadata": {},
   "outputs": [
    {
     "name": "stdout",
     "output_type": "stream",
     "text": [
      "the best_params of the XGBoost model is: {'var_smoothing': 1e-09}\n",
      "the best_score of the XGBoost model is: 0.9009273772204806\n",
      "the best_estimator of the XGBoost model is: GaussianNB()\n"
     ]
    }
   ],
   "source": [
    "import sklearn.model_selection as ms\n",
    "#GausianNB\n",
    "nb = GaussianNB()\n",
    "param_grid = {\n",
    "    'var_smoothing': [1e-9, 1e-8, 1e-7, 1e-6, 1e-5]\n",
    "}\n",
    "# 使用GridSearchCV进行网格搜索\n",
    "model=ms.GridSearchCV(nb, param_grid=param_grid, cv=10)\n",
    "model.fit(X_train, y_train)\n",
    "print(\"the best_params of the XGBoost model is:\",model.best_params_)\n",
    "# 获取最优得分\n",
    "print(\"the best_score of the XGBoost model is:\",model.best_score_)\n",
    "# 获取最优模型的信息\n",
    "print(\"the best_estimator of the XGBoost model is:\",model.best_estimator_)"
   ]
  },
  {
   "cell_type": "code",
   "execution_count": 1,
   "id": "311267b4",
   "metadata": {},
   "outputs": [],
   "source": [
    "#XGBoost\n",
    "params={\n",
    "    'n_estimators':[10,50,100,200,300,400,500],\n",
    "    'learning_rate':[0.001,0.01,0.05,0.1,0.3,1],\n",
    "    'max_depth': [5, 10, 15, 20, 25]\n",
    "}\n",
    "model = ms.GridSearchCV(XGBClassifier(), params, cv=10)\n",
    "model.fit(X_train, y_train)\n",
    "print(\"the best_params of the XGBoost model is:\",model.best_params_)\n",
    "# 获取最优得分\n",
    "print(\"the best_score of the XGBoost model is:\",model.best_score_)\n",
    "# 获取最优模型的信息\n",
    "print(\"the best_estimator of the XGBoost model is:\",model.best_estimator_)"
   ]
  },
  {
   "cell_type": "code",
   "execution_count": null,
   "id": "77348805",
   "metadata": {},
   "outputs": [],
   "source": [
    "#decisiontree\n",
    "from sklearn.tree import DecisionTreeClassifier\n",
    "params={\n",
    "    'max_depth':list((5,10,12)),\n",
    "    'min_samples_split': list((2,4,6)),\n",
    "    'min_samples_leaf':list((1,2,4))\n",
    "}\n",
    "gridsearch(params,DecisionTreeClassifier(),X_train,y_train,10)"
   ]
  },
  {
   "cell_type": "code",
   "execution_count": null,
   "id": "a77c2cc3",
   "metadata": {},
   "outputs": [],
   "source": []
  }
 ],
 "metadata": {
  "kernelspec": {
   "display_name": "Python 3",
   "language": "python",
   "name": "python3"
  },
  "language_info": {
   "codemirror_mode": {
    "name": "ipython",
    "version": 3
   },
   "file_extension": ".py",
   "mimetype": "text/x-python",
   "name": "python",
   "nbconvert_exporter": "python",
   "pygments_lexer": "ipython3",
   "version": "3.7.6"
  }
 },
 "nbformat": 4,
 "nbformat_minor": 5
}
