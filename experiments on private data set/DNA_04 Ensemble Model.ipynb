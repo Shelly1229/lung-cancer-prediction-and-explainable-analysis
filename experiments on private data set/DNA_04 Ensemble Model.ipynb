{
 "cells": [
  {
   "cell_type": "markdown",
   "id": "bd6a6f13",
   "metadata": {},
   "source": [
    "### 导入包"
   ]
  },
  {
   "cell_type": "code",
   "execution_count": 2,
   "id": "41cb833e",
   "metadata": {},
   "outputs": [],
   "source": [
    "import pandas as pd\n",
    "import numpy as np\n",
    "import matplotlib.pyplot as plt\n",
    "plt.style.use('fivethirtyeight')\n",
    "import seaborn as sns\n",
    "from sklearn.model_selection import train_test_split\n",
    "from sklearn.preprocessing import StandardScaler\n",
    "from sklearn import preprocessing \n",
    "from category_encoders import *\n",
    "from sklearn.preprocessing import LabelEncoder\n",
    "%matplotlib inline\n",
    "\n",
    "from sklearn.model_selection import cross_val_predict\n",
    "from sklearn.model_selection import cross_val_score\n",
    "from sklearn.metrics import classification_report\n",
    "from sklearn.metrics import confusion_matrix, accuracy_score, recall_score, f1_score, precision_score\n",
    "from sklearn.model_selection import RandomizedSearchCV\n",
    "\n",
    "from sklearn.svm import SVC\n",
    "from sklearn.tree import DecisionTreeClassifier\n",
    "from sklearn.neighbors import KNeighborsClassifier\n",
    "from sklearn.ensemble import RandomForestClassifier\n",
    "from sklearn.ensemble import AdaBoostClassifier\n",
    "from sklearn.naive_bayes import GaussianNB,MultinomialNB,BernoulliNB\n",
    "from sklearn.linear_model import LogisticRegression\n",
    "from sklearn.ensemble import GradientBoostingClassifier\n",
    "from xgboost import XGBClassifier\n",
    "import lightgbm as lgb\n",
    "from sklearn import datasets, linear_model, metrics\n",
    "from sklearn.metrics import  confusion_matrix\n",
    "from sklearn.metrics import accuracy_score, confusion_matrix, classification_report\n",
    "from sklearn.ensemble import BaggingClassifier\n",
    "from mlxtend.classifier import StackingClassifier\n",
    "from sklearn.datasets import make_classification\n",
    "import warnings\n",
    "warnings.filterwarnings(\"ignore\")"
   ]
  },
  {
   "cell_type": "markdown",
   "id": "369886bd",
   "metadata": {},
   "source": [
    "### 导入数据、归一化、划分训练集测试集"
   ]
  },
  {
   "cell_type": "code",
   "execution_count": 3,
   "id": "46969b78",
   "metadata": {},
   "outputs": [],
   "source": [
    "data=pd.read_csv('./clean-data.csv')\n",
    "data=data.drop(['Unnamed: 0'],axis=1)\n",
    "X=data.drop(['Group'],axis=1)\n",
    "y=data['Group']"
   ]
  },
  {
   "cell_type": "code",
   "execution_count": 4,
   "id": "9352a5fc",
   "metadata": {},
   "outputs": [],
   "source": [
    "column=X.columns\n",
    "from sklearn.preprocessing import StandardScaler\n",
    "sc = StandardScaler()\n",
    "X=sc.fit_transform(X)\n",
    "X=pd.DataFrame(data=X,columns=column)"
   ]
  },
  {
   "cell_type": "code",
   "execution_count": 5,
   "id": "75e54af4",
   "metadata": {},
   "outputs": [
    {
     "name": "stdout",
     "output_type": "stream",
     "text": [
      "Train shape : (132, 203)\n",
      "Test shape: (33, 203)\n"
     ]
    }
   ],
   "source": [
    "X_train,X_test,y_train,y_test = train_test_split(X,y,test_size=0.2,random_state=42,stratify=None)\n",
    "print(f'Train shape : {X_train.shape}\\nTest shape: {X_test.shape}')"
   ]
  },
  {
   "cell_type": "markdown",
   "id": "77c5bd38",
   "metadata": {},
   "source": [
    "### 交叉验证函数"
   ]
  },
  {
   "cell_type": "code",
   "execution_count": 6,
   "id": "8cdf64d3",
   "metadata": {},
   "outputs": [],
   "source": [
    "def crosspredict(estimator,Xtrain,ytrain,cv):\n",
    "    print(\"cross-validate across the entire data set\")\n",
    "    y_pred_cross=cross_val_predict(estimator,Xtrain,ytrain,cv=cv)\n",
    "    confusion_cross=confusion_matrix(ytrain,y_pred_cross)\n",
    "    a=accuracy_score(ytrain,y_pred_cross)\n",
    "    p=precision_score(ytrain, y_pred_cross)\n",
    "    r=recall_score(ytrain, y_pred_cross)\n",
    "    f1=f1_score(ytrain, y_pred_cross)\n",
    "    wf1=f1_score(ytrain, y_pred_cross, average='weighted')\n",
    "    #auc=roc_auc_score(ytrain,estimator.predict_proba(Xtrain)[:,1])\n",
    "    print('the confusion_matrix of the model is : \\n',confusion_cross)\n",
    "    print('the accuracy of the model is : ',a)\n",
    "    print(\"the precision score of the model is : \", p)\n",
    "    print(\"the recall score of the model is :\", r)\n",
    "    print('the f1_score of the model  is :',f1)\n",
    "    print('the weighted_f1 of the model is :',wf1)\n",
    "    print('the classification_report is :\\n',classification_report(ytrain, y_pred_cross,digits=4))\n",
    "    #print('the auc is :',auc)\n",
    "    return a,p,r,f1,wf1"
   ]
  },
  {
   "cell_type": "code",
   "execution_count": null,
   "id": "24300dea",
   "metadata": {},
   "outputs": [],
   "source": [
    "clf1=SVC(C=1, coef0=10, degree=2, kernel='poly', probability=True)\n",
    "clf2=KNeighborsClassifier(n_neighbors=13)\n",
    "clf3=LogisticRegression(C=0.1)\n",
    "clf4=GaussianNB()\n",
    "clf5=BernoulliNB()\n",
    "clf6=DecisionTreeClassifier(max_depth=5, min_samples_leaf=2, min_samples_split=6)\n",
    "clf7=RandomForestClassifier(max_depth=8, n_estimators=105, n_jobs=-1,random_state=90)\n",
    "clf8=AdaBoostClassifier(learning_rate=0.1)\n",
    "clf9=GradientBoostingClassifier(loss='exponential', n_estimators=300)\n",
    "clf10=XGBClassifier(booster='gblinear',learning_rate=0.3,n_estimators=10)\n",
    "clf11=lgb.LGBMClassifier(max_depth=3, n_estimators=300)"
   ]
  },
  {
   "cell_type": "code",
   "execution_count": 43,
   "id": "8c8b25fe",
   "metadata": {},
   "outputs": [],
   "source": [
    "sel_seq_dt_mask=['APG_0101010010M','APG_0101010055P','APG_0101010063M','APG_0101010341M','APG_0101010354P']\n",
    "sel_seq_rf_mask=['APG_0101010055P','APG_0101010262P','APG_0101010266P']\n",
    "sel_seq_ada_mask=['APG_0101010033M','APG_0101010063M','APG_0101010067M','APG_0101010147M','APG_0101010192M', 'APG_0101010236M']\n",
    "sel_seq_gb_mask=['APG_0101010002M','APG_0101010055P','APG_0101010266P','APG_0101010354P']\n",
    "sel_seq_xgb_mask=['APG_0101010010M','APG_0101010037P','APG_0101010063M','APG_0101010078P','APG_0101010150P','APG_0101010230P','APG_0101010279P','APG_0101010312P','APG_0101020013M']\n",
    "sel_seq_KN_mask=['APG_0101010055P','APG_0101010100P','APG_0101010239P','APG_0101020013M']\n",
    "sel_seq_Lightgbm_mask=['APG_0101010036M','APG_0101010078P','APG_0101010130P','APG_0101010192M','APG_0101010226P','APG_0101010242P','APG_0101010265P']\n",
    "sel_seq_SVC_mask=['APG_0101010009P','APG_0101010055P','APG_0101010100P','APG_0101010143P','APG_0101010169P','APG_0101010199P','APG_0101010254P','APG_0101010267P', 'APG_0101010300P','APG_0101010356P']\n",
    "sel_seq_GNB_mask=['APG_0101010010M','APG_0101010055P','APG_0101010057M','APG_0101010081M','APG_0101010085P','APG_0101010199P','APG_0101010264P','APG_0101010279P', 'APG_0101010300P']\n",
    "sel_seq_lr_mask=['APG_0101010010M','APG_0101010030M','APG_0101010041M','APG_0101010043P','APG_0101010137P','APG_0101010150P','APG_0101010152M','APG_0101010168P','APG_0101010176P','APG_0101010356P']\n",
    "\n",
    "model_dt_fs = MyEstimator(DecisionTreeClassifier(max_depth=5, min_samples_leaf=2, min_samples_split=6), sel_seq_dt_mask)\n",
    "model_rf_fs = MyEstimator(RandomForestClassifier(max_depth=8, n_estimators=105, n_jobs=-1,random_state=90), sel_seq_rf_mask)\n",
    "model_ada_fs = MyEstimator(AdaBoostClassifier(learning_rate=0.1), sel_seq_ada_mask)\n",
    "model_gb_fs = MyEstimator(GradientBoostingClassifier(loss='exponential', n_estimators=300), sel_seq_gb_mask)\n",
    "model_xgb_fs = MyEstimator(XGBClassifier(booster='gblinear',learning_rate=0.3,n_estimators=10), mask=sel_seq_xgb_mask)\n",
    "model_KN_fs = MyEstimator(KNeighborsClassifier(n_neighbors=13), mask=sel_seq_KN_mask)\n",
    "model_Lightgbm_fs = MyEstimator(lgb.LGBMClassifier(max_depth=3, n_estimators=300), mask=sel_seq_Lightgbm_mask)\n",
    "model_SVC_fs = MyEstimator(SVC(C=1, coef0=10, degree=2, kernel='poly', probability=True),mask=sel_seq_SVC_mask)\n",
    "model_GNB_fs = MyEstimator(GaussianNB(),mask=sel_seq_GNB_mask)\n",
    "model_lr_fs = MyEstimator(LogisticRegression(C=0.1),mask=sel_seq_lr_mask)\n"
   ]
  },
  {
   "cell_type": "code",
   "execution_count": 33,
   "id": "1524a11e",
   "metadata": {},
   "outputs": [
    {
     "name": "stdout",
     "output_type": "stream",
     "text": [
      "cross-validate across the entire data set\n",
      "the confusion_matrix of the model is : \n",
      " [[68 10]\n",
      " [25 62]]\n",
      "the accuracy of the model is :  0.7878787878787878\n",
      "the precision score of the model is :  0.8611111111111112\n",
      "the recall score of the model is : 0.7126436781609196\n",
      "the f1_score of the model  is : 0.779874213836478\n",
      "the weighted_f1 of the model is : 0.7871766322610414\n",
      "the classification_report is :\n",
      "               precision    recall  f1-score   support\n",
      "\n",
      "           0     0.7312    0.8718    0.7953        78\n",
      "           1     0.8611    0.7126    0.7799        87\n",
      "\n",
      "    accuracy                         0.7879       165\n",
      "   macro avg     0.7961    0.7922    0.7876       165\n",
      "weighted avg     0.7997    0.7879    0.7872       165\n",
      "\n"
     ]
    }
   ],
   "source": [
    "a,b,c,d,e=crosspredict(model_dt_fs,X,y,10)"
   ]
  },
  {
   "cell_type": "code",
   "execution_count": 34,
   "id": "d9d122bf",
   "metadata": {},
   "outputs": [
    {
     "name": "stdout",
     "output_type": "stream",
     "text": [
      "cross-validate across the entire data set\n",
      "the confusion_matrix of the model is : \n",
      " [[64 14]\n",
      " [24 63]]\n",
      "the accuracy of the model is :  0.7696969696969697\n",
      "the precision score of the model is :  0.8181818181818182\n",
      "the recall score of the model is : 0.7241379310344828\n",
      "the f1_score of the model  is : 0.7682926829268294\n",
      "the weighted_f1 of the model is : 0.7696123741084071\n",
      "the classification_report is :\n",
      "               precision    recall  f1-score   support\n",
      "\n",
      "           0     0.7273    0.8205    0.7711        78\n",
      "           1     0.8182    0.7241    0.7683        87\n",
      "\n",
      "    accuracy                         0.7697       165\n",
      "   macro avg     0.7727    0.7723    0.7697       165\n",
      "weighted avg     0.7752    0.7697    0.7696       165\n",
      "\n"
     ]
    }
   ],
   "source": [
    "a,b,c,d,e=crosspredict(model_rf_fs,X,y,10)"
   ]
  },
  {
   "cell_type": "code",
   "execution_count": 35,
   "id": "389d4c31",
   "metadata": {},
   "outputs": [
    {
     "name": "stdout",
     "output_type": "stream",
     "text": [
      "cross-validate across the entire data set\n",
      "the confusion_matrix of the model is : \n",
      " [[56 22]\n",
      " [15 72]]\n",
      "the accuracy of the model is :  0.7757575757575758\n",
      "the precision score of the model is :  0.7659574468085106\n",
      "the recall score of the model is : 0.8275862068965517\n",
      "the f1_score of the model  is : 0.7955801104972374\n",
      "the weighted_f1 of the model is : 0.7748263157362493\n",
      "the classification_report is :\n",
      "               precision    recall  f1-score   support\n",
      "\n",
      "           0     0.7887    0.7179    0.7517        78\n",
      "           1     0.7660    0.8276    0.7956        87\n",
      "\n",
      "    accuracy                         0.7758       165\n",
      "   macro avg     0.7773    0.7728    0.7736       165\n",
      "weighted avg     0.7767    0.7758    0.7748       165\n",
      "\n"
     ]
    }
   ],
   "source": [
    "a,b,c,d,e=crosspredict(model_ada_fs,X,y,10)"
   ]
  },
  {
   "cell_type": "code",
   "execution_count": 36,
   "id": "00adb1ef",
   "metadata": {},
   "outputs": [
    {
     "name": "stdout",
     "output_type": "stream",
     "text": [
      "cross-validate across the entire data set\n",
      "the confusion_matrix of the model is : \n",
      " [[64 14]\n",
      " [26 61]]\n",
      "the accuracy of the model is :  0.7575757575757576\n",
      "the precision score of the model is :  0.8133333333333334\n",
      "the recall score of the model is : 0.7011494252873564\n",
      "the f1_score of the model  is : 0.7530864197530864\n",
      "the weighted_f1 of the model is : 0.7572550905884239\n",
      "the classification_report is :\n",
      "               precision    recall  f1-score   support\n",
      "\n",
      "           0     0.7111    0.8205    0.7619        78\n",
      "           1     0.8133    0.7011    0.7531        87\n",
      "\n",
      "    accuracy                         0.7576       165\n",
      "   macro avg     0.7622    0.7608    0.7575       165\n",
      "weighted avg     0.7650    0.7576    0.7573       165\n",
      "\n"
     ]
    }
   ],
   "source": [
    "a,b,c,d,e=crosspredict(model_gb_fs,X,y,10)"
   ]
  },
  {
   "cell_type": "code",
   "execution_count": 37,
   "id": "65550cef",
   "metadata": {},
   "outputs": [
    {
     "name": "stdout",
     "output_type": "stream",
     "text": [
      "cross-validate across the entire data set\n",
      "the confusion_matrix of the model is : \n",
      " [[66 12]\n",
      " [30 57]]\n",
      "the accuracy of the model is :  0.7454545454545455\n",
      "the precision score of the model is :  0.8260869565217391\n",
      "the recall score of the model is : 0.6551724137931034\n",
      "the f1_score of the model  is : 0.7307692307692308\n",
      "the weighted_f1 of the model is : 0.7439353749698577\n",
      "the classification_report is :\n",
      "               precision    recall  f1-score   support\n",
      "\n",
      "           0     0.6875    0.8462    0.7586        78\n",
      "           1     0.8261    0.6552    0.7308        87\n",
      "\n",
      "    accuracy                         0.7455       165\n",
      "   macro avg     0.7568    0.7507    0.7447       165\n",
      "weighted avg     0.7606    0.7455    0.7439       165\n",
      "\n"
     ]
    }
   ],
   "source": [
    "a,b,c,d,e=crosspredict(model_xgb_fs,X,y,10)"
   ]
  },
  {
   "cell_type": "code",
   "execution_count": 38,
   "id": "66c5f228",
   "metadata": {},
   "outputs": [
    {
     "name": "stdout",
     "output_type": "stream",
     "text": [
      "cross-validate across the entire data set\n",
      "the confusion_matrix of the model is : \n",
      " [[63 15]\n",
      " [43 44]]\n",
      "the accuracy of the model is :  0.6484848484848484\n",
      "the precision score of the model is :  0.7457627118644068\n",
      "the recall score of the model is : 0.5057471264367817\n",
      "the f1_score of the model  is : 0.6027397260273973\n",
      "the weighted_f1 of the model is : 0.6415236341978451\n",
      "the classification_report is :\n",
      "               precision    recall  f1-score   support\n",
      "\n",
      "           0     0.5943    0.8077    0.6848        78\n",
      "           1     0.7458    0.5057    0.6027        87\n",
      "\n",
      "    accuracy                         0.6485       165\n",
      "   macro avg     0.6701    0.6567    0.6438       165\n",
      "weighted avg     0.6742    0.6485    0.6415       165\n",
      "\n"
     ]
    }
   ],
   "source": [
    "a,b,c,d,e=crosspredict(model_KN_fs,X,y,10)"
   ]
  },
  {
   "cell_type": "code",
   "execution_count": 39,
   "id": "d6fa3d0b",
   "metadata": {},
   "outputs": [
    {
     "name": "stdout",
     "output_type": "stream",
     "text": [
      "cross-validate across the entire data set\n",
      "the confusion_matrix of the model is : \n",
      " [[52 26]\n",
      " [24 63]]\n",
      "the accuracy of the model is :  0.696969696969697\n",
      "the precision score of the model is :  0.7078651685393258\n",
      "the recall score of the model is : 0.7241379310344828\n",
      "the f1_score of the model  is : 0.7159090909090908\n",
      "the weighted_f1 of the model is : 0.6967237308146399\n",
      "the classification_report is :\n",
      "               precision    recall  f1-score   support\n",
      "\n",
      "           0     0.6842    0.6667    0.6753        78\n",
      "           1     0.7079    0.7241    0.7159        87\n",
      "\n",
      "    accuracy                         0.6970       165\n",
      "   macro avg     0.6960    0.6954    0.6956       165\n",
      "weighted avg     0.6967    0.6970    0.6967       165\n",
      "\n"
     ]
    }
   ],
   "source": [
    "a,b,c,d,e=crosspredict(model_Lightgbm_fs,X,y,10)"
   ]
  },
  {
   "cell_type": "code",
   "execution_count": 44,
   "id": "5b1b9558",
   "metadata": {},
   "outputs": [
    {
     "name": "stdout",
     "output_type": "stream",
     "text": [
      "cross-validate across the entire data set\n",
      "the confusion_matrix of the model is : \n",
      " [[66 12]\n",
      " [30 57]]\n",
      "the accuracy of the model is :  0.7454545454545455\n",
      "the precision score of the model is :  0.8260869565217391\n",
      "the recall score of the model is : 0.6551724137931034\n",
      "the f1_score of the model  is : 0.7307692307692308\n",
      "the weighted_f1 of the model is : 0.7439353749698577\n",
      "the classification_report is :\n",
      "               precision    recall  f1-score   support\n",
      "\n",
      "           0     0.6875    0.8462    0.7586        78\n",
      "           1     0.8261    0.6552    0.7308        87\n",
      "\n",
      "    accuracy                         0.7455       165\n",
      "   macro avg     0.7568    0.7507    0.7447       165\n",
      "weighted avg     0.7606    0.7455    0.7439       165\n",
      "\n"
     ]
    }
   ],
   "source": [
    "a,b,c,d,e=crosspredict(model_SVC_fs,X,y,10)"
   ]
  },
  {
   "cell_type": "code",
   "execution_count": 41,
   "id": "3d3aa896",
   "metadata": {},
   "outputs": [
    {
     "name": "stdout",
     "output_type": "stream",
     "text": [
      "cross-validate across the entire data set\n",
      "the confusion_matrix of the model is : \n",
      " [[75  3]\n",
      " [24 63]]\n",
      "the accuracy of the model is :  0.8363636363636363\n",
      "the precision score of the model is :  0.9545454545454546\n",
      "the recall score of the model is : 0.7241379310344828\n",
      "the f1_score of the model  is : 0.823529411764706\n",
      "the weighted_f1 of the model is : 0.8348409317502039\n",
      "the classification_report is :\n",
      "               precision    recall  f1-score   support\n",
      "\n",
      "           0     0.7576    0.9615    0.8475        78\n",
      "           1     0.9545    0.7241    0.8235        87\n",
      "\n",
      "    accuracy                         0.8364       165\n",
      "   macro avg     0.8561    0.8428    0.8355       165\n",
      "weighted avg     0.8614    0.8364    0.8348       165\n",
      "\n"
     ]
    }
   ],
   "source": [
    "a,b,c,d,e=crosspredict(model_GNB_fs,X,y,10)"
   ]
  },
  {
   "cell_type": "code",
   "execution_count": 42,
   "id": "326b0b74",
   "metadata": {},
   "outputs": [
    {
     "name": "stdout",
     "output_type": "stream",
     "text": [
      "cross-validate across the entire data set\n",
      "the confusion_matrix of the model is : \n",
      " [[60 18]\n",
      " [22 65]]\n",
      "the accuracy of the model is :  0.7575757575757576\n",
      "the precision score of the model is :  0.7831325301204819\n",
      "the recall score of the model is : 0.7471264367816092\n",
      "the f1_score of the model  is : 0.7647058823529411\n",
      "the weighted_f1 of the model is : 0.7577540106951872\n",
      "the classification_report is :\n",
      "               precision    recall  f1-score   support\n",
      "\n",
      "           0     0.7317    0.7692    0.7500        78\n",
      "           1     0.7831    0.7471    0.7647        87\n",
      "\n",
      "    accuracy                         0.7576       165\n",
      "   macro avg     0.7574    0.7582    0.7574       165\n",
      "weighted avg     0.7588    0.7576    0.7578       165\n",
      "\n"
     ]
    }
   ],
   "source": [
    "a,b,c,d,e=crosspredict(model_lr_fs,X,y,10)"
   ]
  },
  {
   "cell_type": "markdown",
   "id": "cb51d1b8",
   "metadata": {},
   "source": [
    "### 集成"
   ]
  },
  {
   "cell_type": "code",
   "execution_count": 45,
   "id": "465d898d",
   "metadata": {},
   "outputs": [],
   "source": [
    "from sklearn.base import ClassifierMixin\n",
    "from sklearn.base import TransformerMixin, BaseEstimator\n",
    "class MyEstimator(BaseEstimator, ClassifierMixin):\n",
    "    def __init__(self, model, mask) -> None:\n",
    "        super().__init__()\n",
    "        self.mask = mask\n",
    "        self.model = model\n",
    "    \n",
    "    def fit(self, X, y=None):\n",
    "        self.model.fit(X[self.mask],y)\n",
    "        return self\n",
    "\n",
    "    def predict(self, X):\n",
    "        return self.model.predict(X[self.mask])"
   ]
  },
  {
   "cell_type": "markdown",
   "id": "19401274",
   "metadata": {},
   "source": [
    "### Voting(dt/rf/ada/gb/xgb)"
   ]
  },
  {
   "cell_type": "code",
   "execution_count": 39,
   "id": "df71b453",
   "metadata": {},
   "outputs": [
    {
     "name": "stdout",
     "output_type": "stream",
     "text": [
      "cross-validate across the entire data set\n",
      "the confusion_matrix of the model is : \n",
      " [[73  5]\n",
      " [22 65]]\n",
      "the accuracy of the model is :  0.8363636363636363\n",
      "the precision score of the model is :  0.9285714285714286\n",
      "the recall score of the model is : 0.7471264367816092\n",
      "the f1_score of the model  is : 0.8280254777070064\n",
      "the weighted_f1 of the model is : 0.835544279732638\n",
      "the classification_report is :\n",
      "               precision    recall  f1-score   support\n",
      "\n",
      "           0     0.7684    0.9359    0.8439        78\n",
      "           1     0.9286    0.7471    0.8280        87\n",
      "\n",
      "    accuracy                         0.8364       165\n",
      "   macro avg     0.8485    0.8415    0.8360       165\n",
      "weighted avg     0.8529    0.8364    0.8355       165\n",
      "\n"
     ]
    }
   ],
   "source": [
    "from itertools import *\n",
    "sel_seq_dt_mask=['APG_0101010010M','APG_0101010055P','APG_0101010063M','APG_0101010341M','APG_0101010354P']\n",
    "sel_seq_rf_mask=['APG_0101010055P','APG_0101010262P','APG_0101010266P']\n",
    "sel_seq_ada_mask=['APG_0101010033M','APG_0101010063M','APG_0101010067M','APG_0101010147M','APG_0101010192M', 'APG_0101010236M']\n",
    "sel_seq_gb_mask=['APG_0101010002M','APG_0101010055P','APG_0101010266P','APG_0101010354P']\n",
    "sel_seq_xgb_mask=['APG_0101010055P', 'APG_0101010145P', 'APG_0101010176P']\n",
    "\n",
    "feature=list(set(sel_seq_dt_mask+sel_seq_rf_mask+sel_seq_ada_mask+sel_seq_gb_mask+sel_seq_xgb_mask))\n",
    "model_dt_fs = MyEstimator(DecisionTreeClassifier(max_depth=5, min_samples_leaf=2, min_samples_split=6), sel_seq_dt_mask)\n",
    "model_rf_fs = MyEstimator(RandomForestClassifier(max_depth=8, n_estimators=105, n_jobs=-1,random_state=90), sel_seq_rf_mask)\n",
    "model_ada_fs = MyEstimator(AdaBoostClassifier(learning_rate=0.1), sel_seq_ada_mask)\n",
    "model_gb_fs = MyEstimator(GradientBoostingClassifier(loss='exponential', n_estimators=300), sel_seq_gb_mask)\n",
    "model_xgb_fs = MyEstimator(XGBClassifier(booster='gbtree',learning_rate=0.01,n_estimators=100,max_depth=5), mask=sel_seq_xgb_mask)\n",
    "from sklearn.ensemble import VotingClassifier\n",
    "model_voting = VotingClassifier([\n",
    "    (\"dt\",model_dt_fs),\n",
    "    (\"rf\",model_rf_fs),\n",
    "    (\"ada\", model_ada_fs),\n",
    "    (\"gb\",model_gb_fs),\n",
    "    (\"xgb\", model_xgb_fs)\n",
    "], voting=\"hard\")\n",
    "a,b,c,d,e=crosspredict(model_voting,X,y,10)"
   ]
  },
  {
   "cell_type": "markdown",
   "id": "1b65e2f0",
   "metadata": {},
   "source": [
    "### Voting(dt/rf/ada/xgb/gnb)"
   ]
  },
  {
   "cell_type": "code",
   "execution_count": 41,
   "id": "b81b9871",
   "metadata": {},
   "outputs": [
    {
     "name": "stdout",
     "output_type": "stream",
     "text": [
      "cross-validate across the entire data set\n",
      "the confusion_matrix of the model is : \n",
      " [[76  2]\n",
      " [16 71]]\n",
      "the accuracy of the model is :  0.8909090909090909\n",
      "the precision score of the model is :  0.9726027397260274\n",
      "the recall score of the model is : 0.8160919540229885\n",
      "the f1_score of the model  is : 0.8875\n",
      "the weighted_f1 of the model is : 0.8906283422459892\n",
      "the classification_report is :\n",
      "               precision    recall  f1-score   support\n",
      "\n",
      "           0     0.8261    0.9744    0.8941        78\n",
      "           1     0.9726    0.8161    0.8875        87\n",
      "\n",
      "    accuracy                         0.8909       165\n",
      "   macro avg     0.8993    0.8952    0.8908       165\n",
      "weighted avg     0.9033    0.8909    0.8906       165\n",
      "\n"
     ]
    }
   ],
   "source": [
    "from itertools import *\n",
    "sel_seq_dt_mask=['APG_0101010010M','APG_0101010055P','APG_0101010063M','APG_0101010341M','APG_0101010354P']\n",
    "sel_seq_rf_mask=['APG_0101010055P','APG_0101010262P','APG_0101010266P']\n",
    "sel_seq_ada_mask=['APG_0101010033M','APG_0101010063M','APG_0101010067M','APG_0101010147M','APG_0101010192M', 'APG_0101010236M']\n",
    "sel_seq_gb_mask=['APG_0101010002M','APG_0101010055P','APG_0101010266P','APG_0101010354P']\n",
    "sel_seq_xgb_mask=['APG_0101010010M','APG_0101010037P','APG_0101010063M','APG_0101010078P','APG_0101010150P','APG_0101010230P','APG_0101010279P','APG_0101010312P','APG_0101020013M']\n",
    "sel_seq_gnb_mask=['APG_0101010010M','APG_0101010055P','APG_0101010057M','APG_0101010081M','APG_0101010085P','APG_0101010199P','APG_0101010264P','APG_0101010279P', 'APG_0101010300P']\n",
    "feature=list(set(sel_seq_dt_mask+sel_seq_rf_mask+sel_seq_ada_mask+sel_seq_gb_mask+sel_seq_xgb_mask))\n",
    "model_dt_fs = MyEstimator(DecisionTreeClassifier(max_depth=5, min_samples_leaf=2, min_samples_split=6), sel_seq_dt_mask)\n",
    "model_rf_fs = MyEstimator(RandomForestClassifier(max_depth=8, n_estimators=105, n_jobs=-1,random_state=90), sel_seq_rf_mask)\n",
    "model_ada_fs = MyEstimator(AdaBoostClassifier(learning_rate=0.1), sel_seq_ada_mask)\n",
    "model_gb_fs = MyEstimator(GradientBoostingClassifier(loss='exponential', n_estimators=300), sel_seq_gb_mask)\n",
    "model_xgb_fs = MyEstimator(XGBClassifier(booster='gblinear',learning_rate=0.3,n_estimators=10), mask=sel_seq_xgb_mask)\n",
    "model_gnb_fs=MyEstimator(GaussianNB(),mask=sel_seq_gnb_mask)\n",
    "from sklearn.ensemble import VotingClassifier\n",
    "model_voting_hard = VotingClassifier([\n",
    "    (\"dt\",model_dt_fs),\n",
    "    (\"rf\",model_rf_fs),\n",
    "    (\"ada\", model_ada_fs),\n",
    "    (\"xgb\", model_xgb_fs),\n",
    "    (\"gnb\",model_gnb_fs),\n",
    "], voting=\"hard\")\n",
    "a,b,c,d,e=crosspredict(model_voting_hard,X,y,10)"
   ]
  },
  {
   "cell_type": "code",
   "execution_count": 48,
   "id": "298dd2fb",
   "metadata": {},
   "outputs": [
    {
     "name": "stdout",
     "output_type": "stream",
     "text": [
      "cross-validate across the entire data set\n",
      "the confusion_matrix of the model is : \n",
      " [[76  2]\n",
      " [16 71]]\n",
      "the accuracy of the model is :  0.8909090909090909\n",
      "the precision score of the model is :  0.9726027397260274\n",
      "the recall score of the model is : 0.8160919540229885\n",
      "the f1_score of the model  is : 0.8875\n",
      "the weighted_f1 of the model is : 0.8906283422459892\n",
      "the classification_report is :\n",
      "               precision    recall  f1-score   support\n",
      "\n",
      "           0     0.8261    0.9744    0.8941        78\n",
      "           1     0.9726    0.8161    0.8875        87\n",
      "\n",
      "    accuracy                         0.8909       165\n",
      "   macro avg     0.8993    0.8952    0.8908       165\n",
      "weighted avg     0.9033    0.8909    0.8906       165\n",
      "\n"
     ]
    }
   ],
   "source": [
    "from sklearn.ensemble import VotingClassifier\n",
    "model_voting_hard = VotingClassifier([\n",
    "    (\"dt\",model_dt_fs),\n",
    "    (\"rf\",model_rf_fs),\n",
    "    (\"ada\", model_ada_fs),\n",
    "    (\"xgb\", model_xgb_fs),\n",
    "    (\"gnb\",model_GNB_fs),\n",
    "], voting=\"hard\")\n",
    "a,b,c,d,e=crosspredict(model_voting_hard,X,y,10)"
   ]
  },
  {
   "cell_type": "code",
   "execution_count": 49,
   "id": "e2fb8b9e",
   "metadata": {},
   "outputs": [
    {
     "name": "stdout",
     "output_type": "stream",
     "text": [
      "cross-validate across the entire data set\n",
      "the confusion_matrix of the model is : \n",
      " [[72  6]\n",
      " [12 75]]\n",
      "the accuracy of the model is :  0.8909090909090909\n",
      "the precision score of the model is :  0.9259259259259259\n",
      "the recall score of the model is : 0.8620689655172413\n",
      "the f1_score of the model  is : 0.8928571428571429\n",
      "the weighted_f1 of the model is : 0.890981240981241\n",
      "the classification_report is :\n",
      "               precision    recall  f1-score   support\n",
      "\n",
      "           0     0.8571    0.9231    0.8889        78\n",
      "           1     0.9259    0.8621    0.8929        87\n",
      "\n",
      "    accuracy                         0.8909       165\n",
      "   macro avg     0.8915    0.8926    0.8909       165\n",
      "weighted avg     0.8934    0.8909    0.8910       165\n",
      "\n"
     ]
    }
   ],
   "source": [
    "from mlxtend.classifier import StackingClassifier\n",
    "model_Stacking_cross = StackingClassifier(classifiers=[\n",
    "    (model_dt_fs),\n",
    "    (model_rf_fs ),\n",
    "    (model_ada_fs),\n",
    "    (model_GNB_fs),\n",
    "    (model_xgb_fs),\n",
    "],meta_classifier=LogisticRegression(C=0.1))\n",
    "a,b,c,d,e=crosspredict(model_Stacking_cross,X,y,10)"
   ]
  },
  {
   "cell_type": "markdown",
   "id": "833bfcd3",
   "metadata": {},
   "source": [
    "Stacking 1D_CNN 5个基模型 第二层用神经网络NN"
   ]
  },
  {
   "cell_type": "code",
   "execution_count": 52,
   "id": "75ce706a",
   "metadata": {},
   "outputs": [],
   "source": [
    "import numpy as np\n",
    "from keras.models import Sequential, Model\n",
    "from keras.layers import Dense, Dropout, Flatten, Conv1D, MaxPooling1D, Input, concatenate\n",
    "from keras.wrappers.scikit_learn import KerasClassifier\n",
    "from sklearn.model_selection import train_test_split, StratifiedKFold\n",
    "from sklearn.metrics import accuracy_score, precision_score, recall_score, f1_score\n",
    "from sklearn.preprocessing import StandardScaler\n",
    "from sklearn.pipeline import Pipeline\n",
    "from sklearn.model_selection import StratifiedKFold\n",
    "from sklearn.linear_model import Lasso\n",
    "from sklearn.preprocessing import StandardScaler\n",
    "\n",
    "\n",
    "# 对特征进行标准化处理\n",
    "scaler = StandardScaler()\n",
    "X = scaler.fit_transform(X)\n",
    "\n",
    "# 训练LASSO回归模型，并获取系数\n",
    "lasso = Lasso(alpha=0.1)\n",
    "lasso.fit(X, y)\n",
    "coefs = lasso.coef_\n",
    "\n",
    "# 选择系数不为0的特征\n",
    "selected_features = X[:, coefs != 0]\n",
    "X=selected_features\n",
    "X_train,X_test,y_train,y_test = train_test_split(X,y,test_size=0.2,random_state=42,stratify=None)\n",
    "accuracy_scores = []\n",
    "precision_scores = []\n",
    "recall_scores = []\n",
    "f1_scores = []\n",
    "kfold = StratifiedKFold(n_splits=10, shuffle=True, random_state=42)\n",
    "for train_idx, test_idx in kfold.split(X, y):\n",
    "    X_train = X[train_idx]\n",
    "    y_train = y[train_idx]\n",
    "    X_test = X[test_idx]\n",
    "    y_test = y[test_idx]\n",
    "    \n",
    "    models = []\n",
    "    \n",
    "    for i in range(5):\n",
    "        model = Sequential()\n",
    "        model.add(Conv1D(filters=32, kernel_size=3, activation='relu', input_shape=(X_train.shape[1], 1)))\n",
    "        model.add(MaxPooling1D(pool_size=2))\n",
    "        model.add(Flatten())\n",
    "        model.add(Dense(128, activation='relu'))\n",
    "        model.add(Dense(1, activation='softmax'))\n",
    "\n",
    "    first_layer_train = np.zeros((len(X_train), 5))\n",
    "    first_layer_test = np.zeros((len(X_test), 5))\n",
    "\n",
    "    for i, model in enumerate(models):\n",
    "        model.compile(loss='binary_crossentropy', optimizer='adam', metrics=['accuracy'])\n",
    "        model.fit(X_train, y_train, epochs=50, batch_size=32)\n",
    "\n",
    "        y_pred_train = model.predict(X_train)\n",
    "        first_layer_train[:, i] = y_pred_train.ravel()\n",
    "\n",
    "        y_pred_test = model.predict(X_test)\n",
    "        first_layer_test[:, i] = y_pred_test.ravel()\n",
    "\n",
    "    input_layer = Input(shape=(5,))\n",
    "    x = Dense(32, activation='relu')(input_layer)\n",
    "#     x = Dropout(0.5)(x)\n",
    "    output_layer = Dense(1, activation='sigmoid')(x)\n",
    "    nn_model = Model(inputs=input_layer, outputs=output_layer)\n",
    "\n",
    "    nn_model.compile(loss='binary_crossentropy', optimizer='adam', metrics=['accuracy'])\n",
    "    nn_model.fit(first_layer_train, y_train, epochs=50, batch_size=32)\n",
    "\n",
    "    y_pred_nn = nn_model.predict(first_layer_test)\n",
    "\n",
    "    y_pred_nn_binary = np.round(y_pred_nn)\n",
    "    accuracy_scores.append(accuracy_score(y_test, y_pred_nn_binary))\n",
    "    precision_scores.append(precision_score(y_test, y_pred_nn_binary))\n",
    "    recall_scores.append(recall_score(y_test, y_pred_nn_binary))\n",
    "    f1_scores.append(f1_score(y_test, y_pred_nn_binary))\n",
    "\n",
    "print('Accuracy:', np.mean(accuracy_scores))\n",
    "print('Precision:', np.mean(precision_scores))\n",
    "print('Recall:', np.mean(recall_scores))\n",
    "print('F1 Score:', np.mean(f1_scores))"
   ]
  },
  {
   "cell_type": "markdown",
   "id": "c960d616",
   "metadata": {},
   "source": [
    "Accuracy: 0.56859243697479 Precision: 0.5735693263319314 Recall: 0.8880952380952382 F1 Score: 0.683120473257446"
   ]
  }
 ],
 "metadata": {
  "kernelspec": {
   "display_name": "Python 3",
   "language": "python",
   "name": "python3"
  },
  "language_info": {
   "codemirror_mode": {
    "name": "ipython",
    "version": 3
   },
   "file_extension": ".py",
   "mimetype": "text/x-python",
   "name": "python",
   "nbconvert_exporter": "python",
   "pygments_lexer": "ipython3",
   "version": "3.7.6"
  }
 },
 "nbformat": 4,
 "nbformat_minor": 5
}
