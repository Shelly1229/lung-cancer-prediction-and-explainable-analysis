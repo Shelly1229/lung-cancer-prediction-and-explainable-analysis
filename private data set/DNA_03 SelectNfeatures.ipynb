{
 "cells": [
  {
   "cell_type": "markdown",
   "metadata": {},
   "source": [
    "### 导入包"
   ]
  },
  {
   "cell_type": "code",
   "execution_count": 1,
   "metadata": {},
   "outputs": [],
   "source": [
    "import pandas as pd\n",
    "import numpy as np\n",
    "import matplotlib.pyplot as plt\n",
    "plt.style.use('fivethirtyeight')\n",
    "import seaborn as sns\n",
    "from sklearn.model_selection import train_test_split\n",
    "from sklearn.preprocessing import StandardScaler\n",
    "from sklearn import preprocessing \n",
    "from sklearn.preprocessing import LabelEncoder\n",
    "%matplotlib inline\n",
    "\n",
    "from sklearn.model_selection import cross_val_predict\n",
    "from sklearn.model_selection import cross_val_score\n",
    "from sklearn.metrics import classification_report\n",
    "from sklearn.metrics import confusion_matrix, accuracy_score, recall_score, f1_score, precision_score\n",
    "from sklearn.model_selection import RandomizedSearchCV\n",
    "\n",
    "from sklearn.svm import SVC\n",
    "from sklearn.neighbors import KNeighborsClassifier\n",
    "from sklearn.tree import DecisionTreeClassifier\n",
    "from sklearn.ensemble import RandomForestClassifier\n",
    "from sklearn.ensemble import AdaBoostClassifier\n",
    "from sklearn.naive_bayes import GaussianNB,MultinomialNB,BernoulliNB\n",
    "from sklearn.linear_model import LogisticRegression\n",
    "from sklearn.ensemble import GradientBoostingClassifier\n",
    "from xgboost import XGBClassifier\n",
    "import lightgbm as lgb\n",
    "from sklearn import datasets, linear_model, metrics\n",
    "from sklearn.metrics import  confusion_matrix\n",
    "from sklearn.metrics import accuracy_score, confusion_matrix, classification_report"
   ]
  },
  {
   "cell_type": "markdown",
   "metadata": {},
   "source": [
    "### 导入数据并归一化"
   ]
  },
  {
   "cell_type": "code",
   "execution_count": 2,
   "metadata": {},
   "outputs": [],
   "source": [
    "data=pd.read_csv('./clean-data.csv')\n",
    "data=data.drop(['Unnamed: 0'],axis=1)\n",
    "X=data.drop(['Group'],axis=1)\n",
    "y=data['Group']\n",
    "column=X.columns\n",
    "from sklearn.preprocessing import StandardScaler\n",
    "sc = StandardScaler()\n",
    "X=sc.fit_transform(X)\n",
    "X=pd.DataFrame(data=X,columns=column)"
   ]
  },
  {
   "cell_type": "markdown",
   "metadata": {},
   "source": [
    "### 划分训练集测试集"
   ]
  },
  {
   "cell_type": "code",
   "execution_count": 3,
   "metadata": {},
   "outputs": [
    {
     "name": "stdout",
     "output_type": "stream",
     "text": [
      "Train shape : (132, 203)\n",
      "Test shape: (33, 203)\n"
     ]
    }
   ],
   "source": [
    "X_train,X_test,y_train,y_test = train_test_split(X,y,test_size=0.2,random_state=42,stratify=None)\n",
    "print(f'Train shape : {X_train.shape}\\nTest shape: {X_test.shape}')"
   ]
  },
  {
   "cell_type": "code",
   "execution_count": 4,
   "metadata": {},
   "outputs": [],
   "source": [
    "#只在测试集上测试\n",
    "def testpredict(estimator,Xtrain,ytrain,Xtest,ytest):\n",
    "    print(\"只在测试集上测试\")\n",
    "    model=estimator.fit(Xtrain,ytrain)\n",
    "    y_pred_train=model.predict(Xtrain)\n",
    "    y_pred_test=model.predict(Xtest)\n",
    "    confusion=confusion_matrix(ytest,y_pred_test)\n",
    "    acc=accuracy_score(ytest, y_pred_test)\n",
    "    rec=recall_score(ytest, y_pred_test)\n",
    "    pre=precision_score(ytest, y_pred_test)\n",
    "    f1=f1_score(ytest, y_pred_test)\n",
    "    print('the confusion_matrix of the model is : \\n',confusion)\n",
    "    print('the accuracy of the model on testing set is ：',acc)\n",
    "    print(\"the precision score of the model on testing set is : \",pre )\n",
    "    print(\"the recall score of the model on testing set is :\", rec)\n",
    "    print('the f1_score of the model on testing set is :',f1)\n",
    "    \n",
    "    return acc,pre,rec,f1"
   ]
  },
  {
   "cell_type": "code",
   "execution_count": 5,
   "metadata": {},
   "outputs": [],
   "source": [
    "#在整个数据集上交叉验证\n",
    "def crosspredict(estimator,Xtrain,ytrain,cv):\n",
    "    print(\"在整个数据集上交叉验证\")\n",
    "    y_pred_cross=cross_val_predict(estimator,Xtrain,ytrain,cv=cv)\n",
    "    confusion_cross=confusion_matrix(ytrain,y_pred_cross)\n",
    "    acc=accuracy_score(ytrain,y_pred_cross)\n",
    "    pre=precision_score(ytrain, y_pred_cross)\n",
    "    rec=recall_score(ytrain, y_pred_cross)\n",
    "    f1=f1_score(ytrain, y_pred_cross)\n",
    "    print('the confusion_matrix of the model is : \\n',confusion_cross)\n",
    "    print('the accuracy of the model is : ',acc)\n",
    "    print(\"the precision score of the model is : \", pre)\n",
    "    print(\"the recall score of the model is :\", rec)\n",
    "    print('the f1_score of the model  is :',f1)\n",
    "    return acc,pre,rec,f1"
   ]
  },
  {
   "cell_type": "markdown",
   "metadata": {},
   "source": [
    "### 特征提取"
   ]
  },
  {
   "cell_type": "code",
   "execution_count": 13,
   "metadata": {},
   "outputs": [],
   "source": [
    "from sklearn.feature_selection import SequentialFeatureSelector\n",
    "def searchNFeatures(estimator,nEnd = 11):\n",
    "    n_feature_range = range(4,nEnd+1)\n",
    "    featuremax2=0\n",
    "    feature2=[]\n",
    "    for n in n_feature_range:\n",
    "        print(\"N features:\", n)\n",
    "        sel_seq = SequentialFeatureSelector(estimator=estimator, n_features_to_select=n)\n",
    "        temp=sel_seq.fit(X, y)\n",
    "        sel_seq_mask= X.columns[temp.get_support()]\n",
    "        print('features:',sel_seq_mask)\n",
    "        X_new=sel_seq.fit_transform(X,y)\n",
    "        X_train1,X_test1,y_train1,y_test1 = train_test_split(X_new,y,test_size=0.2,random_state=42,stratify=None)\n",
    "        \n",
    "        acc2,pre2,rec2,f12=crosspredict(estimator,X_new,y,10)\n",
    "        if f12>f1max2:\n",
    "            featuremax2=n\n",
    "            feature2=sel_seq_mask\n",
    "\n",
    "    print('feature :',feature2)\n",
    "    print('the best feature number is:',featuremax2)\n",
    "    print(\"\\n\")"
   ]
  },
  {
   "cell_type": "code",
   "execution_count": 1,
   "metadata": {
    "scrolled": true
   },
   "outputs": [],
   "source": [
    "searchNFeatures(KNeighborsClassifier(n_neighbors=3, p=1),10)"
   ]
  },
  {
   "cell_type": "markdown",
   "metadata": {},
   "source": [
    "feature : Index(['APG_0101010002M', 'APG_0101010010M', 'APG_0101010052M',\n",
    "       'APG_0101010055P', 'APG_0101010176P'],\n",
    "      dtype='object')\n",
    "the best feature number is: 5"
   ]
  },
  {
   "cell_type": "code",
   "execution_count": null,
   "metadata": {},
   "outputs": [],
   "source": [
    "searchNFeatures(SVC(C=1, coef0=10, degree=4, kernel='poly', probability=True),10)"
   ]
  },
  {
   "cell_type": "markdown",
   "metadata": {},
   "source": [
    "\n",
    "feature : Index(['APG_0101010002M', 'APG_0101010010M', 'APG_0101010037P',\n",
    "       'APG_0101010039M', 'APG_0101010055P', 'APG_0101010143P',\n",
    "       'APG_0101010247P', 'APG_0101010300P', 'APG_0101010332P'],\n",
    "      dtype='object')\n",
    "the best feature number is: 9\n"
   ]
  },
  {
   "cell_type": "code",
   "execution_count": null,
   "metadata": {},
   "outputs": [],
   "source": [
    "searchNFeatures(RandomForestClassifier(max_depth=8, n_estimators=105, n_jobs=-1,random_state=90),10)"
   ]
  },
  {
   "cell_type": "markdown",
   "metadata": {},
   "source": [
    "\n",
    "feature : Index(['APG_0101010055P','APG_0101010262P','APG_0101010266P'],\n",
    "      dtype='object')\n",
    "the best feature number is: 3\n"
   ]
  },
  {
   "cell_type": "code",
   "execution_count": null,
   "metadata": {},
   "outputs": [],
   "source": [
    "searchNFeatures(AdaBoostClassifier(learning_rate=0.1),10)"
   ]
  },
  {
   "cell_type": "markdown",
   "metadata": {},
   "source": [
    "\n",
    "feature : Index(['APG_0101010033M', 'APG_0101010063M', 'APG_0101010067M',\n",
    "       'APG_0101010147M', 'APG_0101010192M', 'APG_0101010236M'],\n",
    "      dtype='object')\n",
    "the best feature number is: 6\n",
    "\n"
   ]
  },
  {
   "cell_type": "code",
   "execution_count": null,
   "metadata": {},
   "outputs": [],
   "source": [
    "searchNFeatures(LogisticRegression(C=0.1),10)"
   ]
  },
  {
   "cell_type": "markdown",
   "metadata": {},
   "source": [
    "\n",
    "feature : Index(['APG_0101010010M', 'APG_0101010030M', 'APG_0101010041M',\n",
    "       'APG_0101010043P', 'APG_0101010137P', 'APG_0101010150P',\n",
    "       'APG_0101010152M', 'APG_0101010168P', 'APG_0101010176P',\n",
    "       'APG_0101010356P'],\n",
    "      dtype='object')\n",
    "the best feature number is: 10\n"
   ]
  },
  {
   "cell_type": "code",
   "execution_count": null,
   "metadata": {},
   "outputs": [],
   "source": [
    "searchNFeatures(XGBClassifier(booster='gblinear',learning_rate=0.3,n_estimators=10),10)"
   ]
  },
  {
   "cell_type": "markdown",
   "metadata": {},
   "source": [
    "\n",
    "feature : Index(['APG_0101010010M','APG_0101010037P','APG_0101010063M',\n",
    "'APG_0101010078P','APG_0101010150P','APG_0101010230P',\n",
    "'APG_0101010279P','APG_0101010312P','APG_0101020013M'],\n",
    "      dtype='object')\n",
    "the best feature number is: 9\n"
   ]
  },
  {
   "cell_type": "code",
   "execution_count": null,
   "metadata": {},
   "outputs": [],
   "source": [
    "searchNFeatures(lgb.LGBMClassifier(max_depth=3, n_estimators=300),10)"
   ]
  },
  {
   "cell_type": "markdown",
   "metadata": {},
   "source": [
    "\n",
    "feature : Index(['APG_0101010036M', 'APG_0101010078P', 'APG_0101010130P',\n",
    "       'APG_0101010192M', 'APG_0101010226P', 'APG_0101010242P',\n",
    "       'APG_0101010265P'],\n",
    "      dtype='object')\n",
    "the best feature number is: 7\n"
   ]
  },
  {
   "cell_type": "code",
   "execution_count": null,
   "metadata": {},
   "outputs": [],
   "source": [
    "searchNFeatures(DecisionTreeClassifier(max_depth=5, min_samples_leaf=2, min_samples_split=6),10)"
   ]
  },
  {
   "cell_type": "markdown",
   "metadata": {},
   "source": [
    "\n",
    "feature : Index(['APG_0101010010M', 'APG_0101010055P', 'APG_0101010063M',\n",
    "       'APG_0101010341M', 'APG_0101010354P'],\n",
    "      dtype='object')\n",
    "the best feature number is: 5\n"
   ]
  },
  {
   "cell_type": "code",
   "execution_count": null,
   "metadata": {},
   "outputs": [],
   "source": []
  }
 ],
 "metadata": {
  "kernelspec": {
   "display_name": "Python 3 (ipykernel)",
   "language": "python",
   "name": "python3"
  },
  "language_info": {
   "codemirror_mode": {
    "name": "ipython",
    "version": 3
   },
   "file_extension": ".py",
   "mimetype": "text/x-python",
   "name": "python",
   "nbconvert_exporter": "python",
   "pygments_lexer": "ipython3",
   "version": "3.7.16"
  }
 },
 "nbformat": 4,
 "nbformat_minor": 4
}
